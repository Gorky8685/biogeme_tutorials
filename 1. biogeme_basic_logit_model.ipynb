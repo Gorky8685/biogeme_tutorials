{
 "cells": [
  {
   "cell_type": "markdown",
   "source": [
    "# Biogeme Basic Logit Model"
   ],
   "metadata": {
    "collapsed": false
   },
   "id": "60a89c0dff216931"
  },
  {
   "cell_type": "code",
   "execution_count": 10,
   "outputs": [],
   "source": [
    "import pandas  as pd\n",
    "import numpy as np\n",
    "import biogeme.database as db\n",
    "import biogeme.biogeme as bio\n",
    "import biogeme.models as models\n",
    "import biogeme.optimization as opt\n",
    "from biogeme.expressions import Beta, DefineVariable\n",
    "import biogeme.expressions as exp\n",
    "import seaborn as sns\n",
    "import matplotlib.pyplot as plt"
   ],
   "metadata": {
    "collapsed": false,
    "ExecuteTime": {
     "end_time": "2023-10-22T06:35:05.670854Z",
     "start_time": "2023-10-22T06:35:05.657694Z"
    }
   },
   "id": "fbb013e0e175ac59"
  },
  {
   "cell_type": "markdown",
   "source": [
    "## import data \n",
    "using swiss_metro data as example"
   ],
   "metadata": {
    "collapsed": false
   },
   "id": "1219637661eeef6d"
  },
  {
   "cell_type": "code",
   "execution_count": 3,
   "outputs": [],
   "source": [
    "swissmetro = pd.read_csv(\"/Users/lei/Documents/毕业论文/biogeme_logit_learning/swissmetro.dat\",sep='\\t')\n",
    "database = db.Database(\"swissmetro\", swissmetro)"
   ],
   "metadata": {
    "collapsed": false,
    "ExecuteTime": {
     "end_time": "2023-10-22T05:21:03.282024Z",
     "start_time": "2023-10-22T05:21:03.245565Z"
    }
   },
   "id": "ce1db9f0ec893fc9"
  },
  {
   "cell_type": "markdown",
   "source": [
    "## 数据说明"
   ],
   "metadata": {
    "collapsed": false
   },
   "id": "fc9bcd7cf6a48556"
  },
  {
   "cell_type": "markdown",
   "source": [
    "### 调查简介\n",
    "\n",
    "* 这个数据是一个SP调查，在一趟火车上收集的。\n",
    "* 这个数据描述了人们对一种新的交通方式“真空列车”的看法，这种新方式与公共交通和小汽车不同。SA公司提供这项服务，在部分真空状态下能够达到500公里的运行速度。\n",
    "* 两组调查：\n",
    "    * 一组来自于铁路用户。最终441个参与者完成了调查，每个受访者生成了9种sp场景，三种方式选择：铁路，真空列车，汽车（仅针对汽车所有者）。\n",
    "    * 一组来源于小汽车用户。基于车牌的调查，是从高速公路上拿到的车牌所有者，然后，给这些人寄问卷。填写了rp调查，然后参加了sp调查。共750份可用。"
   ],
   "metadata": {
    "collapsed": false
   },
   "id": "c9c53f80a9932af3"
  },
  {
   "cell_type": "code",
   "execution_count": 4,
   "outputs": [
    {
     "data": {
      "text/plain": "Index(['GROUP', 'SURVEY', 'SP', 'ID', 'PURPOSE', 'FIRST', 'TICKET', 'WHO',\n       'LUGGAGE', 'AGE', 'MALE', 'INCOME', 'GA', 'ORIGIN', 'DEST', 'TRAIN_AV',\n       'CAR_AV', 'SM_AV', 'TRAIN_TT', 'TRAIN_CO', 'TRAIN_HE', 'SM_TT', 'SM_CO',\n       'SM_HE', 'SM_SEATS', 'CAR_TT', 'CAR_CO', 'CHOICE'],\n      dtype='object')"
     },
     "execution_count": 4,
     "metadata": {},
     "output_type": "execute_result"
    }
   ],
   "source": [
    "swissmetro.columns"
   ],
   "metadata": {
    "collapsed": false,
    "ExecuteTime": {
     "end_time": "2023-10-22T05:40:58.755170Z",
     "start_time": "2023-10-22T05:40:58.742630Z"
    }
   },
   "id": "11d727ca99c7805d"
  },
  {
   "cell_type": "markdown",
   "source": [
    "### 字段说明"
   ],
   "metadata": {
    "collapsed": false
   },
   "id": "9fd6c315114a2f79"
  },
  {
   "cell_type": "markdown",
   "source": [
    "GROUP：问卷来源。2 铁路用户，3 小汽车用户。\n",
    "SURVEY：调查组别，与GROUP相同。0 铁路用户，1 汽车用户。\n",
    "SP：1 sp调查\n",
    "ID：受访者唯一标识\n",
    "PURPOSE：出行目的。1 通勤；2 购物；3 商务；4 休闲；\n",
    "                 5 下班返回；6 购物返回；7 商务返回；8 休闲返回；\n",
    "                 9 其他。\n",
    "FIRST：是否是头等舱用户。0 否，1 是。\n",
    "TICKET：铁路卡种类。0 无； 1 半价卡往返； 2 单程半价卡；3 正价往返票；4 单程正价卡；\n",
    "5 半天票；6 季票；7 高级季票；8 晚7点之后免费卡；9 团体票； 10 其他。\n",
    "WHO：谁支付价格。0 未知； 1 自己； 2 雇主； 3 一半一半。\n",
    "LUGGAGE： 有无行李。0 无；1 一件；2 大于1件。\n",
    "AGE： 年龄。分组年龄 1 24岁及以下；2 24-39岁；3 39-54岁；4 54-65岁；5 大于65；6 未知\n",
    "MALE：性别。0 女；1 男。\n",
    "INCOME： 收入。分组收入。\n",
    "GA: 是否有年票铁路卡。1 有；0 无。\n",
    "ORIGIN：旅行出发地。每个区域对应一个数字。\n",
    "DEST： 旅行目的地。每个区域对应一个数字。\n",
    "TRAIN_AV：列车可用性。\n",
    "CAR_AV：小汽车可用性。\n",
    "SM_AV：真空列车可用性。\n",
    "TRAIN_TT：列车出行时长，分钟。是距离的函数。\n",
    "TRAIN_CO：列车出行费用，瑞法。如果有GA，这个费用是年票的价格。\n",
    "TRAIN_HE：列车发车频率，分钟。如果每小时有两列火车，则该值为30。\n",
    "SM_TT：真空列车出行时长，分钟。是距离的函数，每小时500公里。\n",
    "SM_CO：真空列车的费用，瑞法。固定系数计算。\n",
    "SM_HE：真空列车的发车频率。\n",
    "SM_SEATS：是否有座位。1 有；0 无。\n",
    "CAR_TT：小汽车出行时长，分钟。是距离的函数，每小时500公里。\n",
    "CAR_CO：小汽车的费用，瑞法。固定系数计算。\n",
    "CHOICE：选择了啥。0: 未知；1 列车； 2 真空列车；3 小汽车"
   ],
   "metadata": {
    "collapsed": false
   },
   "id": "7a65545bcb4e200a"
  },
  {
   "cell_type": "code",
   "execution_count": 5,
   "outputs": [
    {
     "data": {
      "text/plain": "       GROUP  SURVEY  SP    ID  PURPOSE  FIRST  TICKET  WHO  LUGGAGE  AGE  \\\n0          2       0   1     1        1      0       1    1        0    3   \n1          2       0   1     1        1      0       1    1        0    3   \n2          2       0   1     1        1      0       1    1        0    3   \n3          2       0   1     1        1      0       1    1        0    3   \n4          2       0   1     1        1      0       1    1        0    3   \n...      ...     ...  ..   ...      ...    ...     ...  ...      ...  ...   \n10723      3       1   1  1192        4      1       7    1        0    5   \n10724      3       1   1  1192        4      1       7    1        0    5   \n10725      3       1   1  1192        4      1       7    1        0    5   \n10726      3       1   1  1192        4      1       7    1        0    5   \n10727      3       1   1  1192        4      1       7    1        0    5   \n\n       ...  TRAIN_TT  TRAIN_CO  TRAIN_HE  SM_TT  SM_CO  SM_HE  SM_SEATS  \\\n0      ...       112        48       120     63     52     20         0   \n1      ...       103        48        30     60     49     10         0   \n2      ...       130        48        60     67     58     30         0   \n3      ...       103        40        30     63     52     20         0   \n4      ...       130        36        60     63     42     20         0   \n...    ...       ...       ...       ...    ...    ...    ...       ...   \n10723  ...       148        13        30     93     17     30         0   \n10724  ...       148        12        30     96     16     10         0   \n10725  ...       148        16        60     93     16     20         0   \n10726  ...       178        16        30     96     17     30         0   \n10727  ...       148        13        60     96     21     30         0   \n\n       CAR_TT  CAR_CO  CHOICE  \n0         117      65       2  \n1         117      84       2  \n2         117      52       2  \n3          72      52       2  \n4          90      84       2  \n...       ...     ...     ...  \n10723     156      56       2  \n10724      96      70       3  \n10725      96      56       3  \n10726      96      91       2  \n10727     120      70       3  \n\n[10728 rows x 28 columns]",
      "text/html": "<div>\n<style scoped>\n    .dataframe tbody tr th:only-of-type {\n        vertical-align: middle;\n    }\n\n    .dataframe tbody tr th {\n        vertical-align: top;\n    }\n\n    .dataframe thead th {\n        text-align: right;\n    }\n</style>\n<table border=\"1\" class=\"dataframe\">\n  <thead>\n    <tr style=\"text-align: right;\">\n      <th></th>\n      <th>GROUP</th>\n      <th>SURVEY</th>\n      <th>SP</th>\n      <th>ID</th>\n      <th>PURPOSE</th>\n      <th>FIRST</th>\n      <th>TICKET</th>\n      <th>WHO</th>\n      <th>LUGGAGE</th>\n      <th>AGE</th>\n      <th>...</th>\n      <th>TRAIN_TT</th>\n      <th>TRAIN_CO</th>\n      <th>TRAIN_HE</th>\n      <th>SM_TT</th>\n      <th>SM_CO</th>\n      <th>SM_HE</th>\n      <th>SM_SEATS</th>\n      <th>CAR_TT</th>\n      <th>CAR_CO</th>\n      <th>CHOICE</th>\n    </tr>\n  </thead>\n  <tbody>\n    <tr>\n      <th>0</th>\n      <td>2</td>\n      <td>0</td>\n      <td>1</td>\n      <td>1</td>\n      <td>1</td>\n      <td>0</td>\n      <td>1</td>\n      <td>1</td>\n      <td>0</td>\n      <td>3</td>\n      <td>...</td>\n      <td>112</td>\n      <td>48</td>\n      <td>120</td>\n      <td>63</td>\n      <td>52</td>\n      <td>20</td>\n      <td>0</td>\n      <td>117</td>\n      <td>65</td>\n      <td>2</td>\n    </tr>\n    <tr>\n      <th>1</th>\n      <td>2</td>\n      <td>0</td>\n      <td>1</td>\n      <td>1</td>\n      <td>1</td>\n      <td>0</td>\n      <td>1</td>\n      <td>1</td>\n      <td>0</td>\n      <td>3</td>\n      <td>...</td>\n      <td>103</td>\n      <td>48</td>\n      <td>30</td>\n      <td>60</td>\n      <td>49</td>\n      <td>10</td>\n      <td>0</td>\n      <td>117</td>\n      <td>84</td>\n      <td>2</td>\n    </tr>\n    <tr>\n      <th>2</th>\n      <td>2</td>\n      <td>0</td>\n      <td>1</td>\n      <td>1</td>\n      <td>1</td>\n      <td>0</td>\n      <td>1</td>\n      <td>1</td>\n      <td>0</td>\n      <td>3</td>\n      <td>...</td>\n      <td>130</td>\n      <td>48</td>\n      <td>60</td>\n      <td>67</td>\n      <td>58</td>\n      <td>30</td>\n      <td>0</td>\n      <td>117</td>\n      <td>52</td>\n      <td>2</td>\n    </tr>\n    <tr>\n      <th>3</th>\n      <td>2</td>\n      <td>0</td>\n      <td>1</td>\n      <td>1</td>\n      <td>1</td>\n      <td>0</td>\n      <td>1</td>\n      <td>1</td>\n      <td>0</td>\n      <td>3</td>\n      <td>...</td>\n      <td>103</td>\n      <td>40</td>\n      <td>30</td>\n      <td>63</td>\n      <td>52</td>\n      <td>20</td>\n      <td>0</td>\n      <td>72</td>\n      <td>52</td>\n      <td>2</td>\n    </tr>\n    <tr>\n      <th>4</th>\n      <td>2</td>\n      <td>0</td>\n      <td>1</td>\n      <td>1</td>\n      <td>1</td>\n      <td>0</td>\n      <td>1</td>\n      <td>1</td>\n      <td>0</td>\n      <td>3</td>\n      <td>...</td>\n      <td>130</td>\n      <td>36</td>\n      <td>60</td>\n      <td>63</td>\n      <td>42</td>\n      <td>20</td>\n      <td>0</td>\n      <td>90</td>\n      <td>84</td>\n      <td>2</td>\n    </tr>\n    <tr>\n      <th>...</th>\n      <td>...</td>\n      <td>...</td>\n      <td>...</td>\n      <td>...</td>\n      <td>...</td>\n      <td>...</td>\n      <td>...</td>\n      <td>...</td>\n      <td>...</td>\n      <td>...</td>\n      <td>...</td>\n      <td>...</td>\n      <td>...</td>\n      <td>...</td>\n      <td>...</td>\n      <td>...</td>\n      <td>...</td>\n      <td>...</td>\n      <td>...</td>\n      <td>...</td>\n      <td>...</td>\n    </tr>\n    <tr>\n      <th>10723</th>\n      <td>3</td>\n      <td>1</td>\n      <td>1</td>\n      <td>1192</td>\n      <td>4</td>\n      <td>1</td>\n      <td>7</td>\n      <td>1</td>\n      <td>0</td>\n      <td>5</td>\n      <td>...</td>\n      <td>148</td>\n      <td>13</td>\n      <td>30</td>\n      <td>93</td>\n      <td>17</td>\n      <td>30</td>\n      <td>0</td>\n      <td>156</td>\n      <td>56</td>\n      <td>2</td>\n    </tr>\n    <tr>\n      <th>10724</th>\n      <td>3</td>\n      <td>1</td>\n      <td>1</td>\n      <td>1192</td>\n      <td>4</td>\n      <td>1</td>\n      <td>7</td>\n      <td>1</td>\n      <td>0</td>\n      <td>5</td>\n      <td>...</td>\n      <td>148</td>\n      <td>12</td>\n      <td>30</td>\n      <td>96</td>\n      <td>16</td>\n      <td>10</td>\n      <td>0</td>\n      <td>96</td>\n      <td>70</td>\n      <td>3</td>\n    </tr>\n    <tr>\n      <th>10725</th>\n      <td>3</td>\n      <td>1</td>\n      <td>1</td>\n      <td>1192</td>\n      <td>4</td>\n      <td>1</td>\n      <td>7</td>\n      <td>1</td>\n      <td>0</td>\n      <td>5</td>\n      <td>...</td>\n      <td>148</td>\n      <td>16</td>\n      <td>60</td>\n      <td>93</td>\n      <td>16</td>\n      <td>20</td>\n      <td>0</td>\n      <td>96</td>\n      <td>56</td>\n      <td>3</td>\n    </tr>\n    <tr>\n      <th>10726</th>\n      <td>3</td>\n      <td>1</td>\n      <td>1</td>\n      <td>1192</td>\n      <td>4</td>\n      <td>1</td>\n      <td>7</td>\n      <td>1</td>\n      <td>0</td>\n      <td>5</td>\n      <td>...</td>\n      <td>178</td>\n      <td>16</td>\n      <td>30</td>\n      <td>96</td>\n      <td>17</td>\n      <td>30</td>\n      <td>0</td>\n      <td>96</td>\n      <td>91</td>\n      <td>2</td>\n    </tr>\n    <tr>\n      <th>10727</th>\n      <td>3</td>\n      <td>1</td>\n      <td>1</td>\n      <td>1192</td>\n      <td>4</td>\n      <td>1</td>\n      <td>7</td>\n      <td>1</td>\n      <td>0</td>\n      <td>5</td>\n      <td>...</td>\n      <td>148</td>\n      <td>13</td>\n      <td>60</td>\n      <td>96</td>\n      <td>21</td>\n      <td>30</td>\n      <td>0</td>\n      <td>120</td>\n      <td>70</td>\n      <td>3</td>\n    </tr>\n  </tbody>\n</table>\n<p>10728 rows × 28 columns</p>\n</div>"
     },
     "execution_count": 5,
     "metadata": {},
     "output_type": "execute_result"
    }
   ],
   "source": [
    "swissmetro"
   ],
   "metadata": {
    "collapsed": false,
    "ExecuteTime": {
     "end_time": "2023-10-22T06:22:26.590843Z",
     "start_time": "2023-10-22T06:22:26.570282Z"
    }
   },
   "id": "41842568969d3d87"
  },
  {
   "cell_type": "markdown",
   "source": [
    "## 模型配置"
   ],
   "metadata": {
    "collapsed": false
   },
   "id": "f43b7fc64d5463a7"
  },
  {
   "cell_type": "markdown",
   "source": [
    "变量名作为全局变量名"
   ],
   "metadata": {
    "collapsed": false
   },
   "id": "d0cd96100b3225dc"
  },
  {
   "cell_type": "code",
   "execution_count": 7,
   "outputs": [],
   "source": [
    "globals().update(database.variables)"
   ],
   "metadata": {
    "collapsed": false,
    "ExecuteTime": {
     "end_time": "2023-10-22T06:26:14.450397Z",
     "start_time": "2023-10-22T06:26:14.427515Z"
    }
   },
   "id": "98b8052eab5b751d"
  },
  {
   "cell_type": "markdown",
   "source": [
    "筛选数据\n",
    "\n",
    "条件是 目的不为1，或者，目的不为3，并且选择 等于0\n",
    "仅保留了通勤的人。"
   ],
   "metadata": {
    "collapsed": false
   },
   "id": "e1fa82faa34a44cd"
  },
  {
   "cell_type": "code",
   "execution_count": 8,
   "outputs": [],
   "source": [
    "exclude = (( PURPOSE != 1 ) * ( PURPOSE != 3 ) + ( CHOICE == 0 )) > 0\n",
    "\n",
    "database.remove(exclude)"
   ],
   "metadata": {
    "collapsed": false,
    "ExecuteTime": {
     "end_time": "2023-10-22T06:29:29.157837Z",
     "start_time": "2023-10-22T06:29:29.117513Z"
    }
   },
   "id": "95228c179060afe6"
  },
  {
   "cell_type": "markdown",
   "source": [
    "定义虚拟变量以及处理一些变量。\n"
   ],
   "metadata": {
    "collapsed": false
   },
   "id": "373130212e4fae25"
  },
  {
   "cell_type": "code",
   "execution_count": 12,
   "outputs": [],
   "source": [
    "SM_COST = SM_CO * ( GA == 0 ) # 如果没有GA卡，SM_cost 为0\n",
    "TRAIN_COST = TRAIN_CO * ( GA == 0 ) # 如果没有GA卡，TRAIN_COST 为0\n",
    "\n",
    "CAR_AV_SP = database.DefineVariable ('CAR_AV_SP', CAR_AV * ( SP !=0 ))\n",
    "# 小汽车可用性变量。如果SP不等于0，小汽车可用性不变，否则为0\n",
    "TRAIN_AV_SP = database.DefineVariable ('TRAIN_AV_SP', TRAIN_AV * ( SP != 0 ))\n",
    "# 列车可用性变量。如果SP不等于0，列车可用性不变，否则为0"
   ],
   "metadata": {
    "collapsed": false,
    "ExecuteTime": {
     "end_time": "2023-10-22T06:35:50.337205Z",
     "start_time": "2023-10-22T06:35:50.287612Z"
    }
   },
   "id": "7d639199e7865648"
  },
  {
   "cell_type": "markdown",
   "source": [
    "一些数据的值进行缩放"
   ],
   "metadata": {
    "collapsed": false
   },
   "id": "e8e848221e48c41b"
  },
  {
   "cell_type": "code",
   "execution_count": 13,
   "outputs": [],
   "source": [
    "TRAIN_TT_SCALED   = database.DefineVariable('TRAIN_TT_SCALED',   TRAIN_TT / 100.0)\n",
    "TRAIN_COST_SCALED = database.DefineVariable('TRAIN_COST_SCALED', TRAIN_COST / 100)\n",
    "SM_TT_SCALED      = database.DefineVariable('SM_TT_SCALED',      SM_TT / 100.0)\n",
    "SM_COST_SCALED    = database.DefineVariable('SM_COST_SCALED',    SM_COST / 100)\n",
    "CAR_TT_SCALED     = database.DefineVariable('CAR_TT_SCALED',     CAR_TT / 100)\n",
    "CAR_CO_SCALED     = database.DefineVariable('CAR_CO_SCALED',     CAR_CO / 100 )"
   ],
   "metadata": {
    "collapsed": false,
    "ExecuteTime": {
     "end_time": "2023-10-22T06:37:08.116455Z",
     "start_time": "2023-10-22T06:37:07.989084Z"
    }
   },
   "id": "ac5ddf448b2d54e2"
  },
  {
   "cell_type": "markdown",
   "source": [
    "查看修改之后的数据"
   ],
   "metadata": {
    "collapsed": false
   },
   "id": "72994e37a494b50a"
  },
  {
   "cell_type": "code",
   "execution_count": 14,
   "outputs": [],
   "source": [
    "swissmetro_after = database.data"
   ],
   "metadata": {
    "collapsed": false,
    "ExecuteTime": {
     "end_time": "2023-10-22T06:38:45.677105Z",
     "start_time": "2023-10-22T06:38:45.662174Z"
    }
   },
   "id": "bb83ff6a9b3dcfa4"
  },
  {
   "cell_type": "code",
   "execution_count": 15,
   "outputs": [
    {
     "data": {
      "text/plain": "      GROUP  SURVEY  SP   ID  PURPOSE  FIRST  TICKET  WHO  LUGGAGE  AGE  ...  \\\n0         2       0   1    1        1      0       1    1        0    3  ...   \n1         2       0   1    1        1      0       1    1        0    3  ...   \n2         2       0   1    1        1      0       1    1        0    3  ...   \n3         2       0   1    1        1      0       1    1        0    3  ...   \n4         2       0   1    1        1      0       1    1        0    3  ...   \n...     ...     ...  ..  ...      ...    ...     ...  ...      ...  ...  ...   \n8446      3       1   1  939        3      1       7    3        1    5  ...   \n8447      3       1   1  939        3      1       7    3        1    5  ...   \n8448      3       1   1  939        3      1       7    3        1    5  ...   \n8449      3       1   1  939        3      1       7    3        1    5  ...   \n8450      3       1   1  939        3      1       7    3        1    5  ...   \n\n      CAR_CO  CHOICE  CAR_AV_SP  TRAIN_AV_SP  TRAIN_TT_SCALED  \\\n0         65       2        1.0          1.0             1.12   \n1         84       2        1.0          1.0             1.03   \n2         52       2        1.0          1.0             1.30   \n3         52       2        1.0          1.0             1.03   \n4         84       2        1.0          1.0             1.30   \n...      ...     ...        ...          ...              ...   \n8446      64       1        1.0          1.0             1.08   \n8447      80       1        1.0          1.0             1.08   \n8448      64       1        1.0          1.0             1.08   \n8449     104       1        1.0          1.0             1.28   \n8450      80       1        1.0          1.0             1.08   \n\n      TRAIN_COST_SCALED  SM_TT_SCALED  SM_COST_SCALED  CAR_TT_SCALED  \\\n0                  0.48          0.63            0.52           1.17   \n1                  0.48          0.60            0.49           1.17   \n2                  0.48          0.67            0.58           1.17   \n3                  0.40          0.63            0.52           0.72   \n4                  0.36          0.63            0.42           0.90   \n...                 ...           ...             ...            ...   \n8446               0.13          0.50            0.17           1.30   \n8447               0.12          0.53            0.16           0.80   \n8448               0.16          0.50            0.16           0.80   \n8449               0.16          0.53            0.17           0.80   \n8450               0.13          0.53            0.21           1.00   \n\n      CAR_CO_SCALED  \n0              0.65  \n1              0.84  \n2              0.52  \n3              0.52  \n4              0.84  \n...             ...  \n8446           0.64  \n8447           0.80  \n8448           0.64  \n8449           1.04  \n8450           0.80  \n\n[6768 rows x 36 columns]",
      "text/html": "<div>\n<style scoped>\n    .dataframe tbody tr th:only-of-type {\n        vertical-align: middle;\n    }\n\n    .dataframe tbody tr th {\n        vertical-align: top;\n    }\n\n    .dataframe thead th {\n        text-align: right;\n    }\n</style>\n<table border=\"1\" class=\"dataframe\">\n  <thead>\n    <tr style=\"text-align: right;\">\n      <th></th>\n      <th>GROUP</th>\n      <th>SURVEY</th>\n      <th>SP</th>\n      <th>ID</th>\n      <th>PURPOSE</th>\n      <th>FIRST</th>\n      <th>TICKET</th>\n      <th>WHO</th>\n      <th>LUGGAGE</th>\n      <th>AGE</th>\n      <th>...</th>\n      <th>CAR_CO</th>\n      <th>CHOICE</th>\n      <th>CAR_AV_SP</th>\n      <th>TRAIN_AV_SP</th>\n      <th>TRAIN_TT_SCALED</th>\n      <th>TRAIN_COST_SCALED</th>\n      <th>SM_TT_SCALED</th>\n      <th>SM_COST_SCALED</th>\n      <th>CAR_TT_SCALED</th>\n      <th>CAR_CO_SCALED</th>\n    </tr>\n  </thead>\n  <tbody>\n    <tr>\n      <th>0</th>\n      <td>2</td>\n      <td>0</td>\n      <td>1</td>\n      <td>1</td>\n      <td>1</td>\n      <td>0</td>\n      <td>1</td>\n      <td>1</td>\n      <td>0</td>\n      <td>3</td>\n      <td>...</td>\n      <td>65</td>\n      <td>2</td>\n      <td>1.0</td>\n      <td>1.0</td>\n      <td>1.12</td>\n      <td>0.48</td>\n      <td>0.63</td>\n      <td>0.52</td>\n      <td>1.17</td>\n      <td>0.65</td>\n    </tr>\n    <tr>\n      <th>1</th>\n      <td>2</td>\n      <td>0</td>\n      <td>1</td>\n      <td>1</td>\n      <td>1</td>\n      <td>0</td>\n      <td>1</td>\n      <td>1</td>\n      <td>0</td>\n      <td>3</td>\n      <td>...</td>\n      <td>84</td>\n      <td>2</td>\n      <td>1.0</td>\n      <td>1.0</td>\n      <td>1.03</td>\n      <td>0.48</td>\n      <td>0.60</td>\n      <td>0.49</td>\n      <td>1.17</td>\n      <td>0.84</td>\n    </tr>\n    <tr>\n      <th>2</th>\n      <td>2</td>\n      <td>0</td>\n      <td>1</td>\n      <td>1</td>\n      <td>1</td>\n      <td>0</td>\n      <td>1</td>\n      <td>1</td>\n      <td>0</td>\n      <td>3</td>\n      <td>...</td>\n      <td>52</td>\n      <td>2</td>\n      <td>1.0</td>\n      <td>1.0</td>\n      <td>1.30</td>\n      <td>0.48</td>\n      <td>0.67</td>\n      <td>0.58</td>\n      <td>1.17</td>\n      <td>0.52</td>\n    </tr>\n    <tr>\n      <th>3</th>\n      <td>2</td>\n      <td>0</td>\n      <td>1</td>\n      <td>1</td>\n      <td>1</td>\n      <td>0</td>\n      <td>1</td>\n      <td>1</td>\n      <td>0</td>\n      <td>3</td>\n      <td>...</td>\n      <td>52</td>\n      <td>2</td>\n      <td>1.0</td>\n      <td>1.0</td>\n      <td>1.03</td>\n      <td>0.40</td>\n      <td>0.63</td>\n      <td>0.52</td>\n      <td>0.72</td>\n      <td>0.52</td>\n    </tr>\n    <tr>\n      <th>4</th>\n      <td>2</td>\n      <td>0</td>\n      <td>1</td>\n      <td>1</td>\n      <td>1</td>\n      <td>0</td>\n      <td>1</td>\n      <td>1</td>\n      <td>0</td>\n      <td>3</td>\n      <td>...</td>\n      <td>84</td>\n      <td>2</td>\n      <td>1.0</td>\n      <td>1.0</td>\n      <td>1.30</td>\n      <td>0.36</td>\n      <td>0.63</td>\n      <td>0.42</td>\n      <td>0.90</td>\n      <td>0.84</td>\n    </tr>\n    <tr>\n      <th>...</th>\n      <td>...</td>\n      <td>...</td>\n      <td>...</td>\n      <td>...</td>\n      <td>...</td>\n      <td>...</td>\n      <td>...</td>\n      <td>...</td>\n      <td>...</td>\n      <td>...</td>\n      <td>...</td>\n      <td>...</td>\n      <td>...</td>\n      <td>...</td>\n      <td>...</td>\n      <td>...</td>\n      <td>...</td>\n      <td>...</td>\n      <td>...</td>\n      <td>...</td>\n      <td>...</td>\n    </tr>\n    <tr>\n      <th>8446</th>\n      <td>3</td>\n      <td>1</td>\n      <td>1</td>\n      <td>939</td>\n      <td>3</td>\n      <td>1</td>\n      <td>7</td>\n      <td>3</td>\n      <td>1</td>\n      <td>5</td>\n      <td>...</td>\n      <td>64</td>\n      <td>1</td>\n      <td>1.0</td>\n      <td>1.0</td>\n      <td>1.08</td>\n      <td>0.13</td>\n      <td>0.50</td>\n      <td>0.17</td>\n      <td>1.30</td>\n      <td>0.64</td>\n    </tr>\n    <tr>\n      <th>8447</th>\n      <td>3</td>\n      <td>1</td>\n      <td>1</td>\n      <td>939</td>\n      <td>3</td>\n      <td>1</td>\n      <td>7</td>\n      <td>3</td>\n      <td>1</td>\n      <td>5</td>\n      <td>...</td>\n      <td>80</td>\n      <td>1</td>\n      <td>1.0</td>\n      <td>1.0</td>\n      <td>1.08</td>\n      <td>0.12</td>\n      <td>0.53</td>\n      <td>0.16</td>\n      <td>0.80</td>\n      <td>0.80</td>\n    </tr>\n    <tr>\n      <th>8448</th>\n      <td>3</td>\n      <td>1</td>\n      <td>1</td>\n      <td>939</td>\n      <td>3</td>\n      <td>1</td>\n      <td>7</td>\n      <td>3</td>\n      <td>1</td>\n      <td>5</td>\n      <td>...</td>\n      <td>64</td>\n      <td>1</td>\n      <td>1.0</td>\n      <td>1.0</td>\n      <td>1.08</td>\n      <td>0.16</td>\n      <td>0.50</td>\n      <td>0.16</td>\n      <td>0.80</td>\n      <td>0.64</td>\n    </tr>\n    <tr>\n      <th>8449</th>\n      <td>3</td>\n      <td>1</td>\n      <td>1</td>\n      <td>939</td>\n      <td>3</td>\n      <td>1</td>\n      <td>7</td>\n      <td>3</td>\n      <td>1</td>\n      <td>5</td>\n      <td>...</td>\n      <td>104</td>\n      <td>1</td>\n      <td>1.0</td>\n      <td>1.0</td>\n      <td>1.28</td>\n      <td>0.16</td>\n      <td>0.53</td>\n      <td>0.17</td>\n      <td>0.80</td>\n      <td>1.04</td>\n    </tr>\n    <tr>\n      <th>8450</th>\n      <td>3</td>\n      <td>1</td>\n      <td>1</td>\n      <td>939</td>\n      <td>3</td>\n      <td>1</td>\n      <td>7</td>\n      <td>3</td>\n      <td>1</td>\n      <td>5</td>\n      <td>...</td>\n      <td>80</td>\n      <td>1</td>\n      <td>1.0</td>\n      <td>1.0</td>\n      <td>1.08</td>\n      <td>0.13</td>\n      <td>0.53</td>\n      <td>0.21</td>\n      <td>1.00</td>\n      <td>0.80</td>\n    </tr>\n  </tbody>\n</table>\n<p>6768 rows × 36 columns</p>\n</div>"
     },
     "execution_count": 15,
     "metadata": {},
     "output_type": "execute_result"
    }
   ],
   "source": [
    "swissmetro_after"
   ],
   "metadata": {
    "collapsed": false,
    "ExecuteTime": {
     "end_time": "2023-10-22T06:38:49.584685Z",
     "start_time": "2023-10-22T06:38:49.555772Z"
    }
   },
   "id": "50c0b6c5786dc95a"
  },
  {
   "cell_type": "markdown",
   "source": [
    "## 定义效用函数\n",
    "\n",
    "   \\begin{equation}\n",
    "    V_1 & = \\beta_{Train} + \\beta_{time}X_{Train_{TT}} + \\beta_{cost}X_{Train_{cost}} \\\\\n",
    "    V_2 & = \\beta_{SM} +  \\beta_{time}X_{SM_{TT}} + \\beta_{cost}X_{SM_{cost}} \\\\\n",
    "    V_3 & = \\beta_{Car} + \\beta_{time}X_{Car_{TT}} + \\beta_{cost}X_{Car_{cost}}\n",
    "   \\end{equation}"
   ],
   "metadata": {
    "collapsed": false
   },
   "id": "96ff8cce323c4ac3"
  },
  {
   "cell_type": "markdown",
   "source": [
    "定义要标定的模型的参数"
   ],
   "metadata": {
    "collapsed": false
   },
   "id": "e828a2dd852af930"
  },
  {
   "cell_type": "code",
   "execution_count": 16,
   "outputs": [],
   "source": [
    "ASC_CAR   = exp.Beta('ASC_CAR',0,None ,None ,0)  # 常数，相当于`$\\beta{car}$`\n",
    "ASC_TRAIN = exp.Beta('ASC_TRAIN',0,None ,None ,0)\n",
    "ASC_SM    = exp.Beta('ASC_SM',0,None ,None ,1)\n",
    "B_TIME    = exp.Beta('B_TIME',0,None ,None ,0)  # 出行时长前面的系数\n",
    "B_COST    = exp.Beta('B_COST',0,None ,None ,0)  # 出行费用前面的系数"
   ],
   "metadata": {
    "collapsed": false,
    "ExecuteTime": {
     "end_time": "2023-10-22T06:48:13.735113Z",
     "start_time": "2023-10-22T06:48:13.716094Z"
    }
   },
   "id": "91ce8d2680528dd1"
  },
  {
   "cell_type": "markdown",
   "source": [
    "形式化模型的效用函数"
   ],
   "metadata": {
    "collapsed": false
   },
   "id": "76a62558823a1fd3"
  },
  {
   "cell_type": "code",
   "execution_count": 17,
   "outputs": [],
   "source": [
    "V1 = ASC_TRAIN + \\\n",
    "     B_TIME * TRAIN_TT_SCALED + \\\n",
    "     B_COST * TRAIN_COST_SCALED\n",
    "V2 = ASC_SM + \\\n",
    "     B_TIME * SM_TT_SCALED + \\\n",
    "     B_COST * SM_COST_SCALED\n",
    "V3 = ASC_CAR + \\\n",
    "     B_TIME * CAR_TT_SCALED + \\\n",
    "     B_COST * CAR_CO_SCALED"
   ],
   "metadata": {
    "collapsed": false,
    "ExecuteTime": {
     "end_time": "2023-10-22T06:49:41.938619Z",
     "start_time": "2023-10-22T06:49:41.913459Z"
    }
   },
   "id": "c628f5a6a16e166a"
  },
  {
   "cell_type": "markdown",
   "source": [
    "\n",
    "把效用函数 和 方式可用性联合起来\n",
    "\n",
    "注意，这里的顺序不能混乱掉。v中的1，表达了train的效用函数，av1 里边的1 就必须是train的可用性"
   ],
   "metadata": {
    "collapsed": false
   },
   "id": "743bbb4cf33a8570"
  },
  {
   "cell_type": "code",
   "execution_count": 18,
   "outputs": [],
   "source": [
    "V = {1: V1,\n",
    "     2: V2,\n",
    "     3: V3}\n",
    "\n",
    "av = {1: TRAIN_AV_SP,\n",
    "      2: SM_AV,\n",
    "      3: CAR_AV_SP}\n",
    "\n"
   ],
   "metadata": {
    "collapsed": false,
    "ExecuteTime": {
     "end_time": "2023-10-22T06:52:44.206327Z",
     "start_time": "2023-10-22T06:52:44.174029Z"
    }
   },
   "id": "93f21ea2098baf63"
  },
  {
   "cell_type": "markdown",
   "source": [
    "## 初始化和定义模型"
   ],
   "metadata": {
    "collapsed": false
   },
   "id": "772463ed404b4167"
  },
  {
   "cell_type": "code",
   "execution_count": 19,
   "outputs": [
    {
     "name": "stderr",
     "output_type": "stream",
     "text": [
      "File biogeme.toml has been created\n"
     ]
    }
   ],
   "source": [
    "logprob = models.loglogit(V, av, CHOICE) # 用log likelihood 来标定模型\n",
    "                          \n",
    "biogeme  = bio.BIOGEME(database, logprob)\n",
    "biogeme.modelName = \"swissmetro_logit_basic\""
   ],
   "metadata": {
    "collapsed": false,
    "ExecuteTime": {
     "end_time": "2023-10-22T06:54:24.213047Z",
     "start_time": "2023-10-22T06:54:24.070647Z"
    }
   },
   "id": "542c9a5c42303115"
  },
  {
   "cell_type": "markdown",
   "source": [
    "## 拟合模型"
   ],
   "metadata": {
    "collapsed": false
   },
   "id": "241ffca38c21edd2"
  },
  {
   "cell_type": "code",
   "execution_count": 20,
   "outputs": [
    {
     "name": "stderr",
     "output_type": "stream",
     "text": [
      "Obsolete syntax. Use generate_html instead of generateHtml\n",
      "Obsolete syntax. Use generate_pickle instead of generatePickle\n"
     ]
    },
    {
     "name": "stdout",
     "output_type": "stream",
     "text": [
      "HTML file:    swissmetro_logit_basic.html\n",
      "Pickle file:  None\n"
     ]
    }
   ],
   "source": [
    "biogeme.generateHtml = True\n",
    "biogeme.generatePickle = False\n",
    "\n",
    "results = biogeme.estimate()\n",
    "\n",
    "print(f\"HTML file:    {results.data.htmlFileName}\")\n",
    "print(f\"Pickle file:  {results.data.pickleFileName }\")"
   ],
   "metadata": {
    "collapsed": false,
    "ExecuteTime": {
     "end_time": "2023-10-22T06:54:59.111163Z",
     "start_time": "2023-10-22T06:54:59.017119Z"
    }
   },
   "id": "edd4bd8afcb8f247"
  },
  {
   "cell_type": "markdown",
   "source": [
    "## 模型最终输出"
   ],
   "metadata": {
    "collapsed": false
   },
   "id": "fc02ecea392b3b3e"
  },
  {
   "cell_type": "code",
   "execution_count": 21,
   "outputs": [
    {
     "name": "stdout",
     "output_type": "stream",
     "text": [
      "ASC_CAR   =\t-0.155\n",
      "ASC_TRAIN =\t-0.701\n",
      "B_COST    =\t-1.08\n",
      "B_TIME    =\t-1.28\n"
     ]
    }
   ],
   "source": [
    "betas = results.getBetaValues()\n",
    "for k,v in betas.items():\n",
    "    print(f\"{k:10}=\\t{v:.3g}\")"
   ],
   "metadata": {
    "collapsed": false,
    "ExecuteTime": {
     "end_time": "2023-10-22T06:55:36.889148Z",
     "start_time": "2023-10-22T06:55:36.862507Z"
    }
   },
   "id": "6155caf0d7c6d009"
  },
  {
   "cell_type": "code",
   "execution_count": null,
   "outputs": [],
   "source": [],
   "metadata": {
    "collapsed": false
   },
   "id": "e6bc211ba0305e2f"
  }
 ],
 "metadata": {
  "kernelspec": {
   "display_name": "Python 3",
   "language": "python",
   "name": "python3"
  },
  "language_info": {
   "codemirror_mode": {
    "name": "ipython",
    "version": 2
   },
   "file_extension": ".py",
   "mimetype": "text/x-python",
   "name": "python",
   "nbconvert_exporter": "python",
   "pygments_lexer": "ipython2",
   "version": "2.7.6"
  }
 },
 "nbformat": 4,
 "nbformat_minor": 5
}
