{
 "cells": [
  {
   "cell_type": "code",
   "execution_count": 1,
   "outputs": [
    {
     "name": "stderr",
     "output_type": "stream",
     "text": [
      "It is advised to set the bounds on parameter lambda_time. A value of -10 and 10 should be appropriate: Beta(\"lambda_time\", 1, -10, 10, 0)\n",
      "It is advised to set the bounds on parameter lambda_time. A value of -10 and 10 should be appropriate: Beta(\"lambda_time\", 1, -10, 10, 0)\n",
      "It is advised to set the bounds on parameter lambda_time. A value of -10 and 10 should be appropriate: Beta(\"lambda_time\", 1, -10, 10, 0)\n"
     ]
    },
    {
     "name": "stdout",
     "output_type": "stream",
     "text": [
      "income_segmentation=INCOME: [{0: 'inc-zero', 1: 'inc-under50', 2: 'inc-50-100', 3: 'inc-100+', 4: 'inc-unknown'}] ref: inc-zero\n",
      "Total number of possible specifications: 36\n"
     ]
    }
   ],
   "source": [
    "\"\"\"File b21multiple_models_spec.py\n",
    "\n",
    ":author: Michel Bierlaire, EPFL\n",
    ":date: Fri Jul 21 17:46:09 2023\n",
    "\n",
    " Example of the estimation of several versions of the model using\n",
    " assisted specification algorithm. Specification of the catalogs.\n",
    "\n",
    "\"\"\"\n",
    "import biogeme.biogeme as bio\n",
    "from biogeme import models\n",
    "from biogeme.expressions import Beta, logzero\n",
    "from biogeme.catalog import Catalog, segmentation_catalogs\n",
    "\n",
    "from swissmetro_data import (\n",
    "    database,\n",
    "    CHOICE,\n",
    "    SM_AV,\n",
    "    CAR_AV_SP,\n",
    "    TRAIN_AV_SP,\n",
    "    TRAIN_TT_SCALED,\n",
    "    TRAIN_COST_SCALED,\n",
    "    SM_TT_SCALED,\n",
    "    SM_COST_SCALED,\n",
    "    CAR_TT_SCALED,\n",
    "    CAR_CO_SCALED,\n",
    "    MALE,\n",
    "    INCOME,\n",
    "    GA,\n",
    ")\n",
    "\n",
    "# Parameters to be estimated\n",
    "ASC_CAR = Beta('ASC_CAR', 0, None, None, 0)\n",
    "ASC_TRAIN = Beta('ASC_TRAIN', 0, None, None, 0)\n",
    "B_TIME = Beta('B_TIME', 0, None, None, 0)\n",
    "B_COST = Beta('B_COST', 0, None, None, 0)\n",
    "\n",
    "# Segmentations\n",
    "gender_segmentation = database.generate_segmentation(\n",
    "    variable=MALE,\n",
    "    mapping={\n",
    "        0: 'female',\n",
    "        1: 'male',\n",
    "    },\n",
    ")\n",
    "\n",
    "income_segmentation = database.generate_segmentation(\n",
    "    variable=INCOME,\n",
    "    mapping={\n",
    "        0: 'inc-zero',\n",
    "        1: 'inc-under50',\n",
    "        2: 'inc-50-100',\n",
    "        3: 'inc-100+',\n",
    "        4: 'inc-unknown',\n",
    "    },\n",
    ")\n",
    "\n",
    "print(f'{income_segmentation=}')\n",
    "ga_segmentation = database.generate_segmentation(\n",
    "    variable=GA, mapping={1: 'GA', 0: 'noGA'}\n",
    ")\n",
    "\n",
    "asc_segmentations = (\n",
    "    gender_segmentation,\n",
    "    ga_segmentation,\n",
    ")\n",
    "\n",
    "ASC_CAR_catalog, ASC_TRAIN_catalog = segmentation_catalogs(\n",
    "    generic_name='ASC',\n",
    "    beta_parameters=[ASC_CAR, ASC_TRAIN],\n",
    "    potential_segmentations=asc_segmentations,\n",
    "    maximum_number=2,\n",
    ")\n",
    "\n",
    "cost_segmentations = (\n",
    "    ga_segmentation,\n",
    "    income_segmentation,\n",
    ")\n",
    "\n",
    "# Note that the function returns a list. In this case, it contains\n",
    "# only one element. This is the reason of the presence of the comma\n",
    "# after B_COST_catalog\n",
    "(B_COST_catalog,) = segmentation_catalogs(\n",
    "    generic_name='B_COST',\n",
    "    beta_parameters=[B_COST],\n",
    "    potential_segmentations=cost_segmentations,\n",
    "    maximum_number=1,\n",
    ")\n",
    "\n",
    "ell_time = Beta('lambda_time', 1, None, 10, 0)\n",
    "# Potential non linear specification of travel time\n",
    "TRAIN_TT_catalog = Catalog.from_dict(\n",
    "    catalog_name='TRAIN_TT',\n",
    "    dict_of_expressions={\n",
    "        'linear': TRAIN_TT_SCALED,\n",
    "        'log': logzero(TRAIN_TT_SCALED),\n",
    "        'boxcox': models.boxcox(TRAIN_TT_SCALED, ell_time),\n",
    "    },\n",
    ")\n",
    "\n",
    "SM_TT_catalog = Catalog.from_dict(\n",
    "    catalog_name='SM_TT',\n",
    "    dict_of_expressions={\n",
    "        'linear': SM_TT_SCALED,\n",
    "        'log': logzero(SM_TT_SCALED),\n",
    "        'boxcox': models.boxcox(SM_TT_SCALED, ell_time),\n",
    "    },\n",
    "    controlled_by=TRAIN_TT_catalog.controlled_by,\n",
    ")\n",
    "\n",
    "CAR_TT_catalog = Catalog.from_dict(\n",
    "    catalog_name='CAR_TT',\n",
    "    dict_of_expressions={\n",
    "        'linear': CAR_TT_SCALED,\n",
    "        'log': logzero(CAR_TT_SCALED),\n",
    "        'boxcox': models.boxcox(CAR_TT_SCALED, ell_time),\n",
    "    },\n",
    "    controlled_by=TRAIN_TT_catalog.controlled_by,\n",
    ")\n",
    "\n",
    "# Definition of the utility functions with linear cost\n",
    "V1 = ASC_TRAIN_catalog + B_TIME * TRAIN_TT_catalog + B_COST_catalog * TRAIN_COST_SCALED\n",
    "V2 = B_TIME * SM_TT_catalog + B_COST_catalog * SM_COST_SCALED\n",
    "V3 = ASC_CAR_catalog + B_TIME * CAR_TT_catalog + B_COST_catalog * CAR_CO_SCALED\n",
    "\n",
    "# Associate utility functions with the numbering of alternatives\n",
    "V = {1: V1, 2: V2, 3: V3}\n",
    "\n",
    "# Associate the availability conditions with the alternatives\n",
    "av = {1: TRAIN_AV_SP, 2: SM_AV, 3: CAR_AV_SP}\n",
    "\n",
    "# Definition of the model. This is the contribution of each\n",
    "# observation to the log likelihood function.\n",
    "logprob = models.loglogit(V, av, CHOICE)\n",
    "\n",
    "print(\n",
    "    f'Total number of possible specifications: '\n",
    "    f'{logprob.number_of_multiple_expressions()}'\n",
    ")\n",
    "\n",
    "the_biogeme = bio.BIOGEME(database, logprob)\n",
    "the_biogeme.modelName = 'b21multiple_models'\n",
    "\n",
    "PARETO_FILE_NAME = 'b21multiple_models.pareto'"
   ],
   "metadata": {
    "collapsed": false,
    "ExecuteTime": {
     "end_time": "2023-10-23T08:58:49.165382Z",
     "start_time": "2023-10-23T08:58:48.758172Z"
    }
   },
   "id": "a940557b74e97b89"
  },
  {
   "cell_type": "markdown",
   "source": [
    "# segmentation 的生成\n",
    "就是把一个变量可以生成X个，\n",
    "\n",
    "例如把年龄分为0-20，20-40，40-60，60-80，80-100，100+，这样就可以生成6个变量"
   ],
   "metadata": {
    "collapsed": false
   },
   "id": "aab2d8afe89a30dc"
  },
  {
   "cell_type": "code",
   "execution_count": 3,
   "outputs": [],
   "source": [
    "import biogeme.biogeme as bio\n",
    "from biogeme import models\n",
    "from biogeme.expressions import Beta, logzero\n",
    "from biogeme.catalog import Catalog, segmentation_catalogs\n",
    "\n",
    "from swissmetro_data import (\n",
    "    database,\n",
    "    CHOICE,\n",
    "    SM_AV,\n",
    "    CAR_AV_SP,\n",
    "    TRAIN_AV_SP,\n",
    "    TRAIN_TT_SCALED,\n",
    "    TRAIN_COST_SCALED,\n",
    "    SM_TT_SCALED,\n",
    "    SM_COST_SCALED,\n",
    "    CAR_TT_SCALED,\n",
    "    CAR_CO_SCALED,\n",
    "    MALE,\n",
    "    INCOME,\n",
    "    GA,\n",
    ")\n",
    "\n",
    "income_segmentation = database.generate_segmentation(\n",
    "    variable=INCOME,\n",
    "    mapping={\n",
    "        0: 'inc-zero',\n",
    "        1: 'inc-under50',\n",
    "        2: 'inc-50-100',\n",
    "        3: 'inc-100+',\n",
    "        4: 'inc-unknown',\n",
    "    },\n",
    ")"
   ],
   "metadata": {
    "collapsed": false,
    "ExecuteTime": {
     "end_time": "2023-10-24T08:53:05.942863Z",
     "start_time": "2023-10-24T08:53:05.690991Z"
    }
   },
   "id": "d27142cbf688de74"
  },
  {
   "cell_type": "code",
   "execution_count": 4,
   "outputs": [
    {
     "name": "stdout",
     "output_type": "stream",
     "text": [
      "income_segmentation=INCOME: [{0: 'inc-zero', 1: 'inc-under50', 2: 'inc-50-100', 3: 'inc-100+', 4: 'inc-unknown'}] ref: inc-zero\n"
     ]
    }
   ],
   "source": [
    "print(f'{income_segmentation=}')"
   ],
   "metadata": {
    "collapsed": false,
    "ExecuteTime": {
     "end_time": "2023-10-24T08:53:41.838567Z",
     "start_time": "2023-10-24T08:53:41.825628Z"
    }
   },
   "id": "f12551096fbbb872"
  },
  {
   "cell_type": "code",
   "execution_count": 5,
   "outputs": [],
   "source": [
    "# 可以创建一个变量"
   ],
   "metadata": {
    "collapsed": false,
    "ExecuteTime": {
     "end_time": "2023-10-24T08:59:04.867611Z",
     "start_time": "2023-10-24T08:59:04.855514Z"
    }
   },
   "id": "c30a62e3d683c3c"
  },
  {
   "cell_type": "code",
   "execution_count": 7,
   "outputs": [],
   "source": [
    "from biogeme.expressions import Variable, Beta\n",
    "socio_eco_1 = Variable('socio_eco_1')"
   ],
   "metadata": {
    "collapsed": false,
    "ExecuteTime": {
     "end_time": "2023-10-24T08:59:20.488227Z",
     "start_time": "2023-10-24T08:59:20.479538Z"
    }
   },
   "id": "8a3c76968f65a810"
  },
  {
   "cell_type": "code",
   "execution_count": 9,
   "outputs": [],
   "source": [
    "import biogeme.segmentation as seg\n",
    "segmentation_1 = seg.DiscreteSegmentationTuple(\n",
    "    variable=socio_eco_1,\n",
    "    mapping={\n",
    "        1: 'high',\n",
    "        2: 'medium',\n",
    "        3: 'low',\n",
    "    }\n",
    ")"
   ],
   "metadata": {
    "collapsed": false,
    "ExecuteTime": {
     "end_time": "2023-10-24T08:59:38.468102Z",
     "start_time": "2023-10-24T08:59:38.460547Z"
    }
   },
   "id": "3f96044b6204c0d"
  },
  {
   "cell_type": "code",
   "execution_count": 10,
   "outputs": [],
   "source": [
    "# 创建一个待标定的参数\n",
    "beta_x = Beta('beta_x', 0, None, None, 0)"
   ],
   "metadata": {
    "collapsed": false,
    "ExecuteTime": {
     "end_time": "2023-10-24T09:00:28.955087Z",
     "start_time": "2023-10-24T09:00:28.940510Z"
    }
   },
   "id": "6fff192c8046ef25"
  },
  {
   "cell_type": "code",
   "execution_count": 11,
   "outputs": [],
   "source": [
    "segmented_parameter = seg.Segmentation(beta_x, (segmentation_1,))"
   ],
   "metadata": {
    "collapsed": false,
    "ExecuteTime": {
     "end_time": "2023-10-24T09:00:35.280491Z",
     "start_time": "2023-10-24T09:00:35.262735Z"
    }
   },
   "id": "d525e12f615b692f"
  },
  {
   "cell_type": "code",
   "execution_count": 13,
   "outputs": [
    {
     "name": "stdout",
     "output_type": "stream",
     "text": [
      "beta_x_medium = Beta('beta_x_medium', 0, None, None, 0)\n",
      "beta_x_low = Beta('beta_x_low', 0, None, None, 0)\n",
      "segmented_beta_x = bioMultSum([Beta('beta_x', 0, None, None, 0), beta_x_medium * (Variable('socio_eco_1') == 2), beta_x_low * (Variable('socio_eco_1') == 3)])\n"
     ]
    }
   ],
   "source": [
    "# 这时可以对segmentation_1中的各个项生成待标定的参数\n",
    "print(segmented_parameter.segmented_code())"
   ],
   "metadata": {
    "collapsed": false,
    "ExecuteTime": {
     "end_time": "2023-10-24T09:01:25.782440Z",
     "start_time": "2023-10-24T09:01:25.773934Z"
    }
   },
   "id": "de6f62c3b6172471"
  },
  {
   "cell_type": "code",
   "execution_count": null,
   "outputs": [],
   "source": [],
   "metadata": {
    "collapsed": false
   },
   "id": "217a1cade681673a"
  }
 ],
 "metadata": {
  "kernelspec": {
   "display_name": "Python 3",
   "language": "python",
   "name": "python3"
  },
  "language_info": {
   "codemirror_mode": {
    "name": "ipython",
    "version": 2
   },
   "file_extension": ".py",
   "mimetype": "text/x-python",
   "name": "python",
   "nbconvert_exporter": "python",
   "pygments_lexer": "ipython2",
   "version": "2.7.6"
  }
 },
 "nbformat": 4,
 "nbformat_minor": 5
}
